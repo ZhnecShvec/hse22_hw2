{
  "nbformat": 4,
  "nbformat_minor": 0,
  "metadata": {
    "colab": {
      "provenance": [],
      "collapsed_sections": []
    },
    "kernelspec": {
      "name": "python3",
      "display_name": "Python 3"
    },
    "language_info": {
      "name": "python"
    }
  },
  "cells": [
    {
      "cell_type": "code",
      "source": [
        "!pwd\n",
        "!rm -rf *"
      ],
      "metadata": {
        "colab": {
          "base_uri": "https://localhost:8080/"
        },
        "id": "NS3Sa8Ko-Hgf",
        "outputId": "6ab786ab-1fb9-4038-b9e9-a6aa8504dd1b"
      },
      "execution_count": 57,
      "outputs": [
        {
          "output_type": "stream",
          "name": "stdout",
          "text": [
            "/content\n"
          ]
        }
      ]
    },
    {
      "cell_type": "markdown",
      "source": [
        "**Подготовка файлов и ПО**"
      ],
      "metadata": {
        "id": "opk6YyQ09vc9"
      }
    },
    {
      "cell_type": "markdown",
      "source": [
        "Файлы из предыдущей части"
      ],
      "metadata": {
        "id": "DiG00Gb3-30E"
      }
    },
    {
      "cell_type": "code",
      "execution_count": 58,
      "metadata": {
        "colab": {
          "base_uri": "https://localhost:8080/"
        },
        "id": "IH6eQaIX4SOq",
        "outputId": "04cc8fcd-2067-42fe-f679-67a57c15ef8b"
      },
      "outputs": [
        {
          "output_type": "stream",
          "name": "stdout",
          "text": [
            "--2022-10-21 15:16:23--  https://raw.githubusercontent.com/ZhnecShvec/hse22_hw2/main/gms2.lst\n",
            "Resolving raw.githubusercontent.com (raw.githubusercontent.com)... 185.199.108.133, 185.199.109.133, 185.199.110.133, ...\n",
            "Connecting to raw.githubusercontent.com (raw.githubusercontent.com)|185.199.108.133|:443... connected.\n",
            "HTTP request sent, awaiting response... 200 OK\n",
            "Length: 222031 (217K) [text/plain]\n",
            "Saving to: ‘gms2.lst’\n",
            "\n",
            "\rgms2.lst              0%[                    ]       0  --.-KB/s               \rgms2.lst            100%[===================>] 216.83K  --.-KB/s    in 0.008s  \n",
            "\n",
            "2022-10-21 15:16:23 (25.9 MB/s) - ‘gms2.lst’ saved [222031/222031]\n",
            "\n",
            "--2022-10-21 15:16:23--  https://raw.githubusercontent.com/ZhnecShvec/hse22_hw2/main/proteins.fasta\n",
            "Resolving raw.githubusercontent.com (raw.githubusercontent.com)... 185.199.108.133, 185.199.109.133, 185.199.110.133, ...\n",
            "Connecting to raw.githubusercontent.com (raw.githubusercontent.com)|185.199.108.133|:443... connected.\n",
            "HTTP request sent, awaiting response... 200 OK\n",
            "Length: 1404883 (1.3M) [text/plain]\n",
            "Saving to: ‘proteins.fasta’\n",
            "\n",
            "proteins.fasta      100%[===================>]   1.34M  --.-KB/s    in 0.009s  \n",
            "\n",
            "2022-10-21 15:16:23 (145 MB/s) - ‘proteins.fasta’ saved [1404883/1404883]\n",
            "\n",
            "--2022-10-21 15:16:24--  https://raw.github.com/ZhnecShvec/hse22_hw2/main/scaffolds.hits_from_MIL_1.txt\n",
            "Resolving raw.github.com (raw.github.com)... 185.199.108.133, 185.199.109.133, 185.199.110.133, ...\n",
            "Connecting to raw.github.com (raw.github.com)|185.199.108.133|:443... connected.\n",
            "HTTP request sent, awaiting response... 301 Moved Permanently\n",
            "Location: https://raw.githubusercontent.com/ZhnecShvec/hse22_hw2/main/scaffolds.hits_from_MIL_1.txt [following]\n",
            "--2022-10-21 15:16:24--  https://raw.githubusercontent.com/ZhnecShvec/hse22_hw2/main/scaffolds.hits_from_MIL_1.txt\n",
            "Resolving raw.githubusercontent.com (raw.githubusercontent.com)... 185.199.108.133, 185.199.109.133, 185.199.110.133, ...\n",
            "Connecting to raw.githubusercontent.com (raw.githubusercontent.com)|185.199.108.133|:443... connected.\n",
            "HTTP request sent, awaiting response... 200 OK\n",
            "Length: 878171 (858K) [text/plain]\n",
            "Saving to: ‘scaffolds.hits_from_MIL_1.txt’\n",
            "\n",
            "scaffolds.hits_from 100%[===================>] 857.59K  --.-KB/s    in 0.008s  \n",
            "\n",
            "2022-10-21 15:16:24 (100 MB/s) - ‘scaffolds.hits_from_MIL_1.txt’ saved [878171/878171]\n",
            "\n",
            "--2022-10-21 15:16:24--  https://raw.github.com/ZhnecShvec/hse22_hw2/main/scaffolds.hits_from_SwissProt.txt\n",
            "Resolving raw.github.com (raw.github.com)... 185.199.108.133, 185.199.109.133, 185.199.110.133, ...\n",
            "Connecting to raw.github.com (raw.github.com)|185.199.108.133|:443... connected.\n",
            "HTTP request sent, awaiting response... 301 Moved Permanently\n",
            "Location: https://raw.githubusercontent.com/ZhnecShvec/hse22_hw2/main/scaffolds.hits_from_SwissProt.txt [following]\n",
            "--2022-10-21 15:16:24--  https://raw.githubusercontent.com/ZhnecShvec/hse22_hw2/main/scaffolds.hits_from_SwissProt.txt\n",
            "Resolving raw.githubusercontent.com (raw.githubusercontent.com)... 185.199.108.133, 185.199.109.133, 185.199.110.133, ...\n",
            "Connecting to raw.githubusercontent.com (raw.githubusercontent.com)|185.199.108.133|:443... connected.\n",
            "HTTP request sent, awaiting response... 200 OK\n",
            "Length: 4848 (4.7K) [text/plain]\n",
            "Saving to: ‘scaffolds.hits_from_SwissProt.txt’\n",
            "\n",
            "scaffolds.hits_from 100%[===================>]   4.73K  --.-KB/s    in 0s      \n",
            "\n",
            "2022-10-21 15:16:24 (41.5 MB/s) - ‘scaffolds.hits_from_SwissProt.txt’ saved [4848/4848]\n",
            "\n",
            "--2022-10-21 15:16:24--  https://raw.githubusercontent.com/ZhnecShvec/hse22_hw1/main/platanus/Poil_gapClosed.fa\n",
            "Resolving raw.githubusercontent.com (raw.githubusercontent.com)... 185.199.108.133, 185.199.109.133, 185.199.110.133, ...\n",
            "Connecting to raw.githubusercontent.com (raw.githubusercontent.com)|185.199.108.133|:443... connected.\n",
            "HTTP request sent, awaiting response... 200 OK\n",
            "Length: 3962004 (3.8M) [text/plain]\n",
            "Saving to: ‘Poil_gapClosed.fa’\n",
            "\n",
            "Poil_gapClosed.fa   100%[===================>]   3.78M  --.-KB/s    in 0.02s   \n",
            "\n",
            "2022-10-21 15:16:24 (233 MB/s) - ‘Poil_gapClosed.fa’ saved [3962004/3962004]\n",
            "\n"
          ]
        }
      ],
      "source": [
        "!wget https://raw.githubusercontent.com/ZhnecShvec/hse22_hw2/main/gms2.lst\n",
        "!wget https://raw.githubusercontent.com/ZhnecShvec/hse22_hw2/main/proteins.fasta\n",
        "!wget https://raw.github.com/ZhnecShvec/hse22_hw2/main/scaffolds.hits_from_MIL_1.txt\n",
        "!wget https://raw.github.com/ZhnecShvec/hse22_hw2/main/scaffolds.hits_from_SwissProt.txt\n",
        "!wget https://raw.githubusercontent.com/ZhnecShvec/hse22_hw1/main/platanus/Poil_gapClosed.fa"
      ]
    },
    {
      "cell_type": "code",
      "source": [
        "!head /content/Poil_gapClosed.fa"
      ],
      "metadata": {
        "colab": {
          "base_uri": "https://localhost:8080/"
        },
        "id": "y0ey5bsSGXR4",
        "outputId": "61da57ee-f07a-4e72-b061-a4440d4aedad"
      },
      "execution_count": 46,
      "outputs": [
        {
          "output_type": "stream",
          "name": "stdout",
          "text": [
            ">scaffold1_cov231\n",
            "TGAATTTTTAAAGAACGTTGCTTTGATTCTCTCAAAGCGGGCTGAGAATTATACATTAGCAGCTTTGTTTGTCAATCTAT\n",
            "TTTCTTAATCATTTTAATAAGGATTAAGCGAACAAACCAACCGCAAACTCAAACCAGAAGGCCTTCATTTGCAAGTGCAT\n",
            "CTTACCGCACCTTTAATCTATCCTGCAAGCTTTTTATTTTAAAATTTCGTTTAAAATCAAACACTTACAGAATCTTAGAG\n",
            "ATTCACCCGAAGGCGTCACCCTCTCAAAACAGGCTGCAAATCTTACGCTAATTTTGACTTTCGTCAATACCTTTCTTGAG\n",
            "AAACTTTTCGAAGACTTAAAAACCTAAAACAATCACTAAGTCATTGAAAAATATGGAGTTTTCACTCCGACTTAAGCGCC\n",
            "GCAGCGATCAAGAGGTGCGCATTATAGAGACATCAGTTCTGCCGTCAACAGGTTTATGAAAGTTTTTTTCAAAGGCTGCT\n",
            "GCAAAGTGCGTATACTTGCCACTCTTATATAGAAAGCACCGTTAACTCCCTACTGAGCTAGTGTTTAGTTCCAGTATTGC\n",
            "TATAGAGGTTCCCATGTCGGAGAAAGCTGTTGTCATTTATTCAGGTGGCATGGATTCGTTCACCATTCTTAATAAAGCCA\n",
            "AGCAAGAAGGTTATGAGCTGTATGCCCTCACCTTCGATTATGGTCAGAAGCATAAGAAAGAGATTCAGTACGCTATCTCT\n"
          ]
        }
      ]
    },
    {
      "cell_type": "code",
      "source": [
        "!head /content/gms2.lst"
      ],
      "metadata": {
        "colab": {
          "base_uri": "https://localhost:8080/"
        },
        "id": "O9mInunyGc9D",
        "outputId": "f9034f24-5cb4-4730-a3f7-19f9917f7a44"
      },
      "execution_count": 47,
      "outputs": [
        {
          "output_type": "stream",
          "name": "stdout",
          "text": [
            "# GeneMark.hmm-2 LST format\n",
            "# GeneMark.hmm-2 prokaryotic version: 1.25_lic\n",
            "# File with sequence: Poil_gapClosed.fa\n",
            "# File with native parameters: GMS2.mod\n",
            "# Native species name and build: unspecified GeneMarkS-2-1.14_1.25_lic\n",
            "# File with MetaGeneMark parameters: /content/gms2_linux_64/mgm_11.mod\n",
            "# translation table: 11\n",
            "# output date start: Fri Oct 21 13:40:58 2022\n",
            "\n",
            "# sequence-region 1 3867817\n"
          ]
        }
      ]
    },
    {
      "cell_type": "code",
      "source": [
        "!head /content/scaffolds.hits_from_MIL_1.txt"
      ],
      "metadata": {
        "colab": {
          "base_uri": "https://localhost:8080/"
        },
        "id": "ep3v5IRYGfli",
        "outputId": "be7b0d6f-6d42-4a65-f8bd-63ddc59c3b8e"
      },
      "execution_count": 59,
      "outputs": [
        {
          "output_type": "stream",
          "name": "stdout",
          "text": [
            "1\tlcl|HF680312.1_prot_CCU72855.1_2406\t99.545\t220\t1\t0\t1\t220\t1\t220\t1.43e-167\t457\n",
            "2\tlcl|HF680312.1_prot_CCU72856.1_2407\t100.000\t234\t0\t0\t1\t234\t1\t234\t3.46e-180\t490\n",
            "3\tlcl|HF680312.1_prot_CCU72857.1_2408\t99.375\t320\t2\t0\t1\t320\t1\t320\t0.0\t643\n",
            "4\tlcl|HF680312.1_prot_CCU72858.1_2409\t100.000\t273\t0\t0\t10\t282\t1\t273\t0.0\t562\n",
            "4\tlcl|HF680312.1_prot_CCU72327.1_1878\t28.322\t286\t185\t4\t1\t280\t1\t272\t1.26e-30\t112\n",
            "4\tlcl|HF680312.1_prot_CCU71952.1_1503\t51.429\t70\t34\t0\t1\t70\t1\t70\t1.51e-14\t68.9\n",
            "5\tlcl|HF680312.1_prot_CCU72859.1_2410\t100.000\t115\t0\t0\t1\t115\t1\t115\t4.80e-85\t240\n",
            "6\tlcl|HF680312.1_prot_CCU72860.1_2411\t100.000\t136\t0\t0\t1\t136\t1\t136\t6.18e-101\t281\n",
            "6\tlcl|HF680312.1_prot_CCU71430.1_981\t33.333\t135\t86\t3\t3\t135\t109\t241\t6.60e-15\t65.9\n",
            "7\tlcl|HF680312.1_prot_CCU72861.1_2412\t100.000\t301\t0\t0\t1\t301\t1\t301\t0.0\t609\n"
          ]
        }
      ]
    },
    {
      "cell_type": "code",
      "source": [
        "!head /content/scaffolds.hits_from_SwissProt.txt"
      ],
      "metadata": {
        "colab": {
          "base_uri": "https://localhost:8080/"
        },
        "id": "QQUmh3zqGiBT",
        "outputId": "b3cf293c-c291-42f1-8492-c98df3b72db2"
      },
      "execution_count": 60,
      "outputs": [
        {
          "output_type": "stream",
          "name": "stdout",
          "text": [
            "104\tsp|Q58577|Y1178_METJA\t30.055\t366\t192\t15\t1\t336\t4\t335\t2.97e-28\t115\n",
            "104\tsp|Q81ST7|BSHA_BACAN\t29.097\t299\t168\t10\t63\t335\t77\t357\t2.74e-22\t100\n",
            "104\tsp|P9WMZ3|PIMB_MYCTU\t28.689\t244\t148\t6\t113\t336\t130\t367\t3.03e-21\t97.1\n",
            "104\tsp|P9WMZ2|PIMB_MYCTO\t28.689\t244\t148\t6\t113\t336\t130\t367\t3.03e-21\t97.1\n",
            "104\tsp|O32272|TUAC_BACSU\t25.313\t399\t230\t11\t1\t348\t1\t382\t8.09e-21\t95.9\n",
            "104\tsp|Q59002|Y1607_METJA\t28.523\t298\t181\t10\t67\t340\t84\t373\t1.72e-18\t89.4\n",
            "104\tsp|Q8NTA6|MSHA_CORGL\t30.147\t272\t160\t13\t103\t352\t144\t407\t1.34e-17\t86.7\n",
            "104\tsp|A4QB40|MSHA_CORGB\t30.147\t272\t160\t13\t103\t352\t144\t407\t1.34e-17\t86.7\n",
            "104\tsp|A7TZT2|MFPS_AGRFC\t26.400\t250\t160\t6\t106\t336\t177\t421\t9.87e-17\t84.3\n",
            "104\tsp|Q8FSH1|MSHA_COREF\t29.588\t267\t156\t12\t106\t349\t147\t404\t3.79e-16\t82.4\n"
          ]
        }
      ]
    },
    {
      "cell_type": "code",
      "source": [
        "!head /content/proteins.fasta"
      ],
      "metadata": {
        "colab": {
          "base_uri": "https://localhost:8080/"
        },
        "id": "QYRg2ZM7GkkA",
        "outputId": "3803c798-8501-45bd-91fa-821fbab2fc3a"
      },
      "execution_count": 50,
      "outputs": [
        {
          "output_type": "stream",
          "name": "stdout",
          "text": [
            ">1 scaffold1_cov231 574 1236 + gene_type=native\n",
            "MSEKAVVIYSGGMDSFTILNKAKQEGYELYALTFDYGQKHKKEIQYAISVCQELKVPHRI\n",
            "IDITAINQLLQSSSLTSDIEIPEGHYEAANMKSTVVPNRNMILLSLAIGYAVDIGASKVF\n",
            "YGAHSGDHAIYPDCRPDFVHAMNRVAKLANYEPVDIVTPYLNGDKTEILKDGLAMGLDYG\n",
            "KTWTCYNGREKACGKCGSCVERLEAFTLNNATDPLPYESV\n",
            ">2 scaffold1_cov231 1237 1941 + gene_type=native\n",
            "MATNFYRVKEAFYTLQGEGAQAGRAAVFCRFSKCNLWNGREESRSTAVCQFCDTDFIGTD\n",
            "GNNGGEYSKQALVELVSNLWPGKSKGANIQGKPYVVCTGGEPLLQLDAALINAFHDAGFE\n",
            "VAVETNGTLPLPQGIDWVCLSPKADAELAFIRCDELKLVYPQLLAMPERFEHIEADHYYL\n",
            "QPMADYQPVVLASDKLEGAKEGLSGSNTQKALSYCLKHPKWKLSLQTHKMIGIE\n"
          ]
        }
      ]
    },
    {
      "cell_type": "markdown",
      "source": [
        "Геном, последовательности генов (нт) и белков (протеом) для бактерии Thalassolituus oleivorans MIL-1 https://www.ncbi.nlm.nih.gov/nuccore/HF680312"
      ],
      "metadata": {
        "id": "IFCtvV8S-7jj"
      }
    },
    {
      "cell_type": "code",
      "source": [
        "!sh -c \"$(curl -fsSL ftp://ftp.ncbi.nlm.nih.gov/entrez/entrezdirect/install-edirect.sh)\""
      ],
      "metadata": {
        "colab": {
          "base_uri": "https://localhost:8080/"
        },
        "id": "WIIlDKqs-GYe",
        "outputId": "ce504ead-ca48-4864-8931-248ff9631736"
      },
      "execution_count": 61,
      "outputs": [
        {
          "output_type": "stream",
          "name": "stdout",
          "text": [
            "\n",
            "Entrez Direct has been successfully downloaded and installed.\n",
            "\n",
            "In order to complete the configuration process, please execute the following:\n",
            "\n",
            "  echo \"export PATH=\\${PATH}:/root/edirect\" >> ${HOME}/.bashrc\n",
            "\n",
            "or manually edit the PATH variable assignment in your .bashrc file.\n",
            "\n",
            "Would you like to do that automatically now? [y/N]\n",
            "^C\n"
          ]
        }
      ]
    },
    {
      "cell_type": "code",
      "source": [
        "!$HOME/edirect/efetch -db nuccore -id HF680312 -format gb  >  T_oleivorans_MIL_1.gbk\n"
      ],
      "metadata": {
        "id": "jeqX_H0G_PSA"
      },
      "execution_count": 62,
      "outputs": []
    },
    {
      "cell_type": "code",
      "source": [
        "!head /content/T_oleivorans_MIL_1.gbk"
      ],
      "metadata": {
        "colab": {
          "base_uri": "https://localhost:8080/"
        },
        "id": "Y-vhPsgRGQNp",
        "outputId": "c87b3811-dfb5-458a-f729-d634e75b6f9c"
      },
      "execution_count": 63,
      "outputs": [
        {
          "output_type": "stream",
          "name": "stdout",
          "text": [
            "LOCUS       HF680312             3920328 bp    DNA     circular BCT 27-FEB-2015\n",
            "DEFINITION  Thalassolituus oleivorans MIL-1 complete genome.\n",
            "ACCESSION   HF680312\n",
            "VERSION     HF680312.1\n",
            "DBLINK      BioProject: PRJEB1425\n",
            "            BioSample: SAMEA2272589\n",
            "KEYWORDS    complete genome.\n",
            "SOURCE      Thalassolituus oleivorans MIL-1\n",
            "  ORGANISM  Thalassolituus oleivorans MIL-1\n",
            "            Bacteria; Proteobacteria; Gammaproteobacteria; Oceanospirillales;\n"
          ]
        }
      ]
    },
    {
      "cell_type": "markdown",
      "source": [
        "Установка biopython"
      ],
      "metadata": {
        "id": "FcarF4bb_J1b"
      }
    },
    {
      "cell_type": "code",
      "source": [
        "!pip install biopython"
      ],
      "metadata": {
        "colab": {
          "base_uri": "https://localhost:8080/"
        },
        "id": "CW4lsKoG_ZMW",
        "outputId": "6f0faf72-fa7f-4f9f-ccc4-2776e40a155c"
      },
      "execution_count": 41,
      "outputs": [
        {
          "output_type": "stream",
          "name": "stdout",
          "text": [
            "Looking in indexes: https://pypi.org/simple, https://us-python.pkg.dev/colab-wheels/public/simple/\n",
            "Requirement already satisfied: biopython in /usr/local/lib/python3.7/dist-packages (1.79)\n",
            "Requirement already satisfied: numpy in /usr/local/lib/python3.7/dist-packages (from biopython) (1.21.6)\n"
          ]
        }
      ]
    },
    {
      "cell_type": "markdown",
      "source": [
        "**Аннотация генома**"
      ],
      "metadata": {
        "id": "mX_1ozSw_leJ"
      }
    },
    {
      "cell_type": "code",
      "source": [
        "!head -n 20 gms2.lst"
      ],
      "metadata": {
        "colab": {
          "base_uri": "https://localhost:8080/"
        },
        "id": "XropDvwm_gJ7",
        "outputId": "533e0cc4-38e1-4ade-cf56-9fefb3766664"
      },
      "execution_count": 64,
      "outputs": [
        {
          "output_type": "stream",
          "name": "stdout",
          "text": [
            "# GeneMark.hmm-2 LST format\n",
            "# GeneMark.hmm-2 prokaryotic version: 1.25_lic\n",
            "# File with sequence: Poil_gapClosed.fa\n",
            "# File with native parameters: GMS2.mod\n",
            "# Native species name and build: unspecified GeneMarkS-2-1.14_1.25_lic\n",
            "# File with MetaGeneMark parameters: /content/gms2_linux_64/mgm_11.mod\n",
            "# translation table: 11\n",
            "# output date start: Fri Oct 21 13:40:58 2022\n",
            "\n",
            "# sequence-region 1 3867817\n",
            "SequenceID: scaffold1_cov231\n",
            "     1   +    574    1236     663 native ATAGAG 6 1\n",
            "     2   +    1237    1941     705 native TACGAG 9 1\n",
            "     3   -    1957    2919     963 native ATGGAG 11 1\n",
            "     4   -    2916    3764     849 native TTGGTT 3 1\n",
            "     5   +    3891    4238     348 native TAGGTG 4 1\n",
            "     6   +    4231    4641     411 native ATCGAT 4 1\n",
            "     7   +    4641    5546     906 native GAGGCC 8 1\n",
            "     8   +    5664    6854    1191 native AAGGCT 6 1\n",
            "     9   +    6876    7781     906 native AAGGAA 5 1\n"
          ]
        }
      ]
    },
    {
      "cell_type": "code",
      "source": [
        "from Bio import SeqIO\n",
        "from Bio.SeqFeature import SeqFeature, FeatureLocation\n",
        "from datetime import datetime as dt\n",
        "import pandas as pd\n",
        "scaffolds = dict()\n",
        "for record in SeqIO.parse(\"Poil_gapClosed.fa\", \"fasta\"):\n",
        "  record.annotations['molecule_type'] = 'DNA'\n",
        "  record.annotations['date'] = dt.now().strftime(\"%d-%b-%Y\").upper()\n",
        "  record.annotations['data_file_division'] = 'BCT'\n",
        "  \n",
        "  scaffolds[record.id] = record\n",
        "genes = dict()\n",
        "for gene in SeqIO.parse(\"proteins.fasta\", \"fasta\"):\n",
        "  desc = gene.description.split(' ')\n",
        "  scaffold = desc[1]\n",
        "  start, end = int(desc[2]), int(desc[3])\n",
        "  strand = 1 if desc[4] == '+' else -1\n",
        "  \n",
        "  feat = SeqFeature(FeatureLocation(start, end, strand=strand), type=\"CDS\")\n",
        "  feat.qualifiers['locus_tag'] = [desc[0]]\n",
        "  feat.qualifiers['translation'] = [gene.seq]\n",
        "  scaffolds[scaffold].features.append(feat)\n",
        "  \n",
        "  genes[desc[0]] = feat\n",
        "feat.qualifiers"
      ],
      "metadata": {
        "colab": {
          "base_uri": "https://localhost:8080/"
        },
        "id": "CkezC6_V_osl",
        "outputId": "b53700dc-fc35-4b6a-aee9-e2b636f3f34a"
      },
      "execution_count": 65,
      "outputs": [
        {
          "output_type": "execute_result",
          "data": {
            "text/plain": [
              "OrderedDict([('locus_tag', ['3625']),\n",
              "             ('translation',\n",
              "              [Seq('GLPLYRMETIFKRMGIHLPRNTLANWMIKSSECLQPLYNLLNDQLLESGYLHMD...DDY')])])"
            ]
          },
          "metadata": {},
          "execution_count": 65
        }
      ]
    },
    {
      "cell_type": "markdown",
      "source": [
        "Добавляем функции белков (из бактерии MIL-1)"
      ],
      "metadata": {
        "id": "9h0WqKIfFIYs"
      }
    },
    {
      "cell_type": "code",
      "source": [
        "mil1genes = dict()\n",
        "for feat in SeqIO.read(\"T_oleivorans_MIL_1.gbk\", \"genbank\").features:\n",
        "  if 'protein_id' not in feat.qualifiers:\n",
        "    continue\n",
        "  if 'product' not in feat.qualifiers:\n",
        "    continue\n",
        "  \n",
        "  mil1genes[feat.qualifiers['protein_id'][0]] = feat.qualifiers['product'][0]\n",
        "names = ['qseqid', 'sseqid', 'pident', 'length', 'mismatch', 'gapopen', 'qstart', 'qend', 'sstart', 'send', 'evalue', 'bitscore']\n",
        "mil1hits = pd.read_csv('scaffolds.hits_from_MIL_1.txt', sep='\\t', header=None, names=names)\n",
        "mil1hits"
      ],
      "metadata": {
        "colab": {
          "base_uri": "https://localhost:8080/",
          "height": 468
        },
        "id": "zRDMaVaDEQrz",
        "outputId": "8ca2a3d8-7d6a-4b9b-ccf2-dfc5daddb9d4"
      },
      "execution_count": 66,
      "outputs": [
        {
          "output_type": "execute_result",
          "data": {
            "text/plain": [
              "       qseqid                               sseqid   pident  length  mismatch  \\\n",
              "0           1  lcl|HF680312.1_prot_CCU72855.1_2406   99.545     220         1   \n",
              "1           2  lcl|HF680312.1_prot_CCU72856.1_2407  100.000     234         0   \n",
              "2           3  lcl|HF680312.1_prot_CCU72857.1_2408   99.375     320         2   \n",
              "3           4  lcl|HF680312.1_prot_CCU72858.1_2409  100.000     273         0   \n",
              "4           4  lcl|HF680312.1_prot_CCU72327.1_1878   28.322     286       185   \n",
              "...       ...                                  ...      ...     ...       ...   \n",
              "10613    3625  lcl|HF680312.1_prot_CCU73517.1_3068   96.552     116         4   \n",
              "10614    3625  lcl|HF680312.1_prot_CCU73713.1_3264   96.552     116         4   \n",
              "10615    3625  lcl|HF680312.1_prot_CCU73876.1_3427   96.552     116         4   \n",
              "10616    3625  lcl|HF680312.1_prot_CCU73197.1_2748   96.552     116         4   \n",
              "10617    3625  lcl|HF680312.1_prot_CCU73034.1_2585   96.552     116         4   \n",
              "\n",
              "       gapopen  qstart  qend  sstart  send         evalue  bitscore  \n",
              "0            0       1   220       1   220  1.430000e-167     457.0  \n",
              "1            0       1   234       1   234  3.460000e-180     490.0  \n",
              "2            0       1   320       1   320   0.000000e+00     643.0  \n",
              "3            0      10   282       1   273   0.000000e+00     562.0  \n",
              "4            4       1   280       1   272   1.260000e-30     112.0  \n",
              "...        ...     ...   ...     ...   ...            ...       ...  \n",
              "10613        0       1   116     216   331   4.090000e-80     241.0  \n",
              "10614        0       1   116     216   331   5.770000e-80     241.0  \n",
              "10615        0       1   116     223   338   8.800000e-80     241.0  \n",
              "10616        0       1   116     223   338   8.800000e-80     241.0  \n",
              "10617        0       1   116     223   338   8.800000e-80     241.0  \n",
              "\n",
              "[10618 rows x 12 columns]"
            ],
            "text/html": [
              "\n",
              "  <div id=\"df-951e5c14-c56f-4d6e-af4f-c711e084d0dc\">\n",
              "    <div class=\"colab-df-container\">\n",
              "      <div>\n",
              "<style scoped>\n",
              "    .dataframe tbody tr th:only-of-type {\n",
              "        vertical-align: middle;\n",
              "    }\n",
              "\n",
              "    .dataframe tbody tr th {\n",
              "        vertical-align: top;\n",
              "    }\n",
              "\n",
              "    .dataframe thead th {\n",
              "        text-align: right;\n",
              "    }\n",
              "</style>\n",
              "<table border=\"1\" class=\"dataframe\">\n",
              "  <thead>\n",
              "    <tr style=\"text-align: right;\">\n",
              "      <th></th>\n",
              "      <th>qseqid</th>\n",
              "      <th>sseqid</th>\n",
              "      <th>pident</th>\n",
              "      <th>length</th>\n",
              "      <th>mismatch</th>\n",
              "      <th>gapopen</th>\n",
              "      <th>qstart</th>\n",
              "      <th>qend</th>\n",
              "      <th>sstart</th>\n",
              "      <th>send</th>\n",
              "      <th>evalue</th>\n",
              "      <th>bitscore</th>\n",
              "    </tr>\n",
              "  </thead>\n",
              "  <tbody>\n",
              "    <tr>\n",
              "      <th>0</th>\n",
              "      <td>1</td>\n",
              "      <td>lcl|HF680312.1_prot_CCU72855.1_2406</td>\n",
              "      <td>99.545</td>\n",
              "      <td>220</td>\n",
              "      <td>1</td>\n",
              "      <td>0</td>\n",
              "      <td>1</td>\n",
              "      <td>220</td>\n",
              "      <td>1</td>\n",
              "      <td>220</td>\n",
              "      <td>1.430000e-167</td>\n",
              "      <td>457.0</td>\n",
              "    </tr>\n",
              "    <tr>\n",
              "      <th>1</th>\n",
              "      <td>2</td>\n",
              "      <td>lcl|HF680312.1_prot_CCU72856.1_2407</td>\n",
              "      <td>100.000</td>\n",
              "      <td>234</td>\n",
              "      <td>0</td>\n",
              "      <td>0</td>\n",
              "      <td>1</td>\n",
              "      <td>234</td>\n",
              "      <td>1</td>\n",
              "      <td>234</td>\n",
              "      <td>3.460000e-180</td>\n",
              "      <td>490.0</td>\n",
              "    </tr>\n",
              "    <tr>\n",
              "      <th>2</th>\n",
              "      <td>3</td>\n",
              "      <td>lcl|HF680312.1_prot_CCU72857.1_2408</td>\n",
              "      <td>99.375</td>\n",
              "      <td>320</td>\n",
              "      <td>2</td>\n",
              "      <td>0</td>\n",
              "      <td>1</td>\n",
              "      <td>320</td>\n",
              "      <td>1</td>\n",
              "      <td>320</td>\n",
              "      <td>0.000000e+00</td>\n",
              "      <td>643.0</td>\n",
              "    </tr>\n",
              "    <tr>\n",
              "      <th>3</th>\n",
              "      <td>4</td>\n",
              "      <td>lcl|HF680312.1_prot_CCU72858.1_2409</td>\n",
              "      <td>100.000</td>\n",
              "      <td>273</td>\n",
              "      <td>0</td>\n",
              "      <td>0</td>\n",
              "      <td>10</td>\n",
              "      <td>282</td>\n",
              "      <td>1</td>\n",
              "      <td>273</td>\n",
              "      <td>0.000000e+00</td>\n",
              "      <td>562.0</td>\n",
              "    </tr>\n",
              "    <tr>\n",
              "      <th>4</th>\n",
              "      <td>4</td>\n",
              "      <td>lcl|HF680312.1_prot_CCU72327.1_1878</td>\n",
              "      <td>28.322</td>\n",
              "      <td>286</td>\n",
              "      <td>185</td>\n",
              "      <td>4</td>\n",
              "      <td>1</td>\n",
              "      <td>280</td>\n",
              "      <td>1</td>\n",
              "      <td>272</td>\n",
              "      <td>1.260000e-30</td>\n",
              "      <td>112.0</td>\n",
              "    </tr>\n",
              "    <tr>\n",
              "      <th>...</th>\n",
              "      <td>...</td>\n",
              "      <td>...</td>\n",
              "      <td>...</td>\n",
              "      <td>...</td>\n",
              "      <td>...</td>\n",
              "      <td>...</td>\n",
              "      <td>...</td>\n",
              "      <td>...</td>\n",
              "      <td>...</td>\n",
              "      <td>...</td>\n",
              "      <td>...</td>\n",
              "      <td>...</td>\n",
              "    </tr>\n",
              "    <tr>\n",
              "      <th>10613</th>\n",
              "      <td>3625</td>\n",
              "      <td>lcl|HF680312.1_prot_CCU73517.1_3068</td>\n",
              "      <td>96.552</td>\n",
              "      <td>116</td>\n",
              "      <td>4</td>\n",
              "      <td>0</td>\n",
              "      <td>1</td>\n",
              "      <td>116</td>\n",
              "      <td>216</td>\n",
              "      <td>331</td>\n",
              "      <td>4.090000e-80</td>\n",
              "      <td>241.0</td>\n",
              "    </tr>\n",
              "    <tr>\n",
              "      <th>10614</th>\n",
              "      <td>3625</td>\n",
              "      <td>lcl|HF680312.1_prot_CCU73713.1_3264</td>\n",
              "      <td>96.552</td>\n",
              "      <td>116</td>\n",
              "      <td>4</td>\n",
              "      <td>0</td>\n",
              "      <td>1</td>\n",
              "      <td>116</td>\n",
              "      <td>216</td>\n",
              "      <td>331</td>\n",
              "      <td>5.770000e-80</td>\n",
              "      <td>241.0</td>\n",
              "    </tr>\n",
              "    <tr>\n",
              "      <th>10615</th>\n",
              "      <td>3625</td>\n",
              "      <td>lcl|HF680312.1_prot_CCU73876.1_3427</td>\n",
              "      <td>96.552</td>\n",
              "      <td>116</td>\n",
              "      <td>4</td>\n",
              "      <td>0</td>\n",
              "      <td>1</td>\n",
              "      <td>116</td>\n",
              "      <td>223</td>\n",
              "      <td>338</td>\n",
              "      <td>8.800000e-80</td>\n",
              "      <td>241.0</td>\n",
              "    </tr>\n",
              "    <tr>\n",
              "      <th>10616</th>\n",
              "      <td>3625</td>\n",
              "      <td>lcl|HF680312.1_prot_CCU73197.1_2748</td>\n",
              "      <td>96.552</td>\n",
              "      <td>116</td>\n",
              "      <td>4</td>\n",
              "      <td>0</td>\n",
              "      <td>1</td>\n",
              "      <td>116</td>\n",
              "      <td>223</td>\n",
              "      <td>338</td>\n",
              "      <td>8.800000e-80</td>\n",
              "      <td>241.0</td>\n",
              "    </tr>\n",
              "    <tr>\n",
              "      <th>10617</th>\n",
              "      <td>3625</td>\n",
              "      <td>lcl|HF680312.1_prot_CCU73034.1_2585</td>\n",
              "      <td>96.552</td>\n",
              "      <td>116</td>\n",
              "      <td>4</td>\n",
              "      <td>0</td>\n",
              "      <td>1</td>\n",
              "      <td>116</td>\n",
              "      <td>223</td>\n",
              "      <td>338</td>\n",
              "      <td>8.800000e-80</td>\n",
              "      <td>241.0</td>\n",
              "    </tr>\n",
              "  </tbody>\n",
              "</table>\n",
              "<p>10618 rows × 12 columns</p>\n",
              "</div>\n",
              "      <button class=\"colab-df-convert\" onclick=\"convertToInteractive('df-951e5c14-c56f-4d6e-af4f-c711e084d0dc')\"\n",
              "              title=\"Convert this dataframe to an interactive table.\"\n",
              "              style=\"display:none;\">\n",
              "        \n",
              "  <svg xmlns=\"http://www.w3.org/2000/svg\" height=\"24px\"viewBox=\"0 0 24 24\"\n",
              "       width=\"24px\">\n",
              "    <path d=\"M0 0h24v24H0V0z\" fill=\"none\"/>\n",
              "    <path d=\"M18.56 5.44l.94 2.06.94-2.06 2.06-.94-2.06-.94-.94-2.06-.94 2.06-2.06.94zm-11 1L8.5 8.5l.94-2.06 2.06-.94-2.06-.94L8.5 2.5l-.94 2.06-2.06.94zm10 10l.94 2.06.94-2.06 2.06-.94-2.06-.94-.94-2.06-.94 2.06-2.06.94z\"/><path d=\"M17.41 7.96l-1.37-1.37c-.4-.4-.92-.59-1.43-.59-.52 0-1.04.2-1.43.59L10.3 9.45l-7.72 7.72c-.78.78-.78 2.05 0 2.83L4 21.41c.39.39.9.59 1.41.59.51 0 1.02-.2 1.41-.59l7.78-7.78 2.81-2.81c.8-.78.8-2.07 0-2.86zM5.41 20L4 18.59l7.72-7.72 1.47 1.35L5.41 20z\"/>\n",
              "  </svg>\n",
              "      </button>\n",
              "      \n",
              "  <style>\n",
              "    .colab-df-container {\n",
              "      display:flex;\n",
              "      flex-wrap:wrap;\n",
              "      gap: 12px;\n",
              "    }\n",
              "\n",
              "    .colab-df-convert {\n",
              "      background-color: #E8F0FE;\n",
              "      border: none;\n",
              "      border-radius: 50%;\n",
              "      cursor: pointer;\n",
              "      display: none;\n",
              "      fill: #1967D2;\n",
              "      height: 32px;\n",
              "      padding: 0 0 0 0;\n",
              "      width: 32px;\n",
              "    }\n",
              "\n",
              "    .colab-df-convert:hover {\n",
              "      background-color: #E2EBFA;\n",
              "      box-shadow: 0px 1px 2px rgba(60, 64, 67, 0.3), 0px 1px 3px 1px rgba(60, 64, 67, 0.15);\n",
              "      fill: #174EA6;\n",
              "    }\n",
              "\n",
              "    [theme=dark] .colab-df-convert {\n",
              "      background-color: #3B4455;\n",
              "      fill: #D2E3FC;\n",
              "    }\n",
              "\n",
              "    [theme=dark] .colab-df-convert:hover {\n",
              "      background-color: #434B5C;\n",
              "      box-shadow: 0px 1px 3px 1px rgba(0, 0, 0, 0.15);\n",
              "      filter: drop-shadow(0px 1px 2px rgba(0, 0, 0, 0.3));\n",
              "      fill: #FFFFFF;\n",
              "    }\n",
              "  </style>\n",
              "\n",
              "      <script>\n",
              "        const buttonEl =\n",
              "          document.querySelector('#df-951e5c14-c56f-4d6e-af4f-c711e084d0dc button.colab-df-convert');\n",
              "        buttonEl.style.display =\n",
              "          google.colab.kernel.accessAllowed ? 'block' : 'none';\n",
              "\n",
              "        async function convertToInteractive(key) {\n",
              "          const element = document.querySelector('#df-951e5c14-c56f-4d6e-af4f-c711e084d0dc');\n",
              "          const dataTable =\n",
              "            await google.colab.kernel.invokeFunction('convertToInteractive',\n",
              "                                                     [key], {});\n",
              "          if (!dataTable) return;\n",
              "\n",
              "          const docLinkHtml = 'Like what you see? Visit the ' +\n",
              "            '<a target=\"_blank\" href=https://colab.research.google.com/notebooks/data_table.ipynb>data table notebook</a>'\n",
              "            + ' to learn more about interactive tables.';\n",
              "          element.innerHTML = '';\n",
              "          dataTable['output_type'] = 'display_data';\n",
              "          await google.colab.output.renderOutput(dataTable, element);\n",
              "          const docLink = document.createElement('div');\n",
              "          docLink.innerHTML = docLinkHtml;\n",
              "          element.appendChild(docLink);\n",
              "        }\n",
              "      </script>\n",
              "    </div>\n",
              "  </div>\n",
              "  "
            ]
          },
          "metadata": {},
          "execution_count": 66
        }
      ]
    },
    {
      "cell_type": "code",
      "source": [
        "hits = mil1hits[mil1hits['sseqid'].str.contains(\"CCU\")].sort_values('bitscore', ascending=False).drop_duplicates('qseqid')\n",
        "hits"
      ],
      "metadata": {
        "colab": {
          "base_uri": "https://localhost:8080/",
          "height": 468
        },
        "id": "vLrblvMFHxq_",
        "outputId": "6cd584d3-6b25-476d-f865-fec995f325ea"
      },
      "execution_count": 67,
      "outputs": [
        {
          "output_type": "execute_result",
          "data": {
            "text/plain": [
              "       qseqid                               sseqid   pident  length  mismatch  \\\n",
              "3642     1275  lcl|HF680312.1_prot_CCU73896.1_3447   98.979    2253        23   \n",
              "2214      813   lcl|HF680312.1_prot_CCU70724.1_275   97.870    2113        43   \n",
              "7358     2615  lcl|HF680312.1_prot_CCU71900.1_1451   99.878    1640         2   \n",
              "3868     1351  lcl|HF680312.1_prot_CCU73861.1_3412   99.214    1654        13   \n",
              "2393      846   lcl|HF680312.1_prot_CCU70690.1_241   99.392    1645        10   \n",
              "...       ...                                  ...      ...     ...       ...   \n",
              "7280     2572  lcl|HF680312.1_prot_CCU73367.1_2918   41.096      73        43   \n",
              "8445     3018  lcl|HF680312.1_prot_CCU73711.1_3262   29.592      98        63   \n",
              "1679      617  lcl|HF680312.1_prot_CCU72581.1_2132   29.592      98        63   \n",
              "10554    3617  lcl|HF680312.1_prot_CCU72581.1_2132   29.592      98        63   \n",
              "481       180  lcl|HF680312.1_prot_CCU73039.1_2590  100.000      28         0   \n",
              "\n",
              "       gapopen  qstart  qend  sstart  send        evalue  bitscore  \n",
              "3642         0       1  2253       1  2253  0.000000e+00    4296.0  \n",
              "2214         1       7  2119       1  2111  0.000000e+00    4158.0  \n",
              "7358         0       1  1640       1  1640  0.000000e+00    3406.0  \n",
              "3868         0       1  1654       1  1654  0.000000e+00    3372.0  \n",
              "2393         0       1  1645       1  1645  0.000000e+00    3338.0  \n",
              "...        ...     ...   ...     ...   ...           ...       ...  \n",
              "7280         0       5    77       8    80  7.960000e-13      54.7  \n",
              "8445         2      16   112       4    96  1.250000e-11      53.5  \n",
              "1679         2      16   112       4    96  1.250000e-11      53.5  \n",
              "10554        2      16   112       4    96  1.250000e-11      53.5  \n",
              "481          0       1    28       1    28  5.730000e-12      50.1  \n",
              "\n",
              "[3339 rows x 12 columns]"
            ],
            "text/html": [
              "\n",
              "  <div id=\"df-e069d34f-05a2-4a17-9b61-e5756628bf36\">\n",
              "    <div class=\"colab-df-container\">\n",
              "      <div>\n",
              "<style scoped>\n",
              "    .dataframe tbody tr th:only-of-type {\n",
              "        vertical-align: middle;\n",
              "    }\n",
              "\n",
              "    .dataframe tbody tr th {\n",
              "        vertical-align: top;\n",
              "    }\n",
              "\n",
              "    .dataframe thead th {\n",
              "        text-align: right;\n",
              "    }\n",
              "</style>\n",
              "<table border=\"1\" class=\"dataframe\">\n",
              "  <thead>\n",
              "    <tr style=\"text-align: right;\">\n",
              "      <th></th>\n",
              "      <th>qseqid</th>\n",
              "      <th>sseqid</th>\n",
              "      <th>pident</th>\n",
              "      <th>length</th>\n",
              "      <th>mismatch</th>\n",
              "      <th>gapopen</th>\n",
              "      <th>qstart</th>\n",
              "      <th>qend</th>\n",
              "      <th>sstart</th>\n",
              "      <th>send</th>\n",
              "      <th>evalue</th>\n",
              "      <th>bitscore</th>\n",
              "    </tr>\n",
              "  </thead>\n",
              "  <tbody>\n",
              "    <tr>\n",
              "      <th>3642</th>\n",
              "      <td>1275</td>\n",
              "      <td>lcl|HF680312.1_prot_CCU73896.1_3447</td>\n",
              "      <td>98.979</td>\n",
              "      <td>2253</td>\n",
              "      <td>23</td>\n",
              "      <td>0</td>\n",
              "      <td>1</td>\n",
              "      <td>2253</td>\n",
              "      <td>1</td>\n",
              "      <td>2253</td>\n",
              "      <td>0.000000e+00</td>\n",
              "      <td>4296.0</td>\n",
              "    </tr>\n",
              "    <tr>\n",
              "      <th>2214</th>\n",
              "      <td>813</td>\n",
              "      <td>lcl|HF680312.1_prot_CCU70724.1_275</td>\n",
              "      <td>97.870</td>\n",
              "      <td>2113</td>\n",
              "      <td>43</td>\n",
              "      <td>1</td>\n",
              "      <td>7</td>\n",
              "      <td>2119</td>\n",
              "      <td>1</td>\n",
              "      <td>2111</td>\n",
              "      <td>0.000000e+00</td>\n",
              "      <td>4158.0</td>\n",
              "    </tr>\n",
              "    <tr>\n",
              "      <th>7358</th>\n",
              "      <td>2615</td>\n",
              "      <td>lcl|HF680312.1_prot_CCU71900.1_1451</td>\n",
              "      <td>99.878</td>\n",
              "      <td>1640</td>\n",
              "      <td>2</td>\n",
              "      <td>0</td>\n",
              "      <td>1</td>\n",
              "      <td>1640</td>\n",
              "      <td>1</td>\n",
              "      <td>1640</td>\n",
              "      <td>0.000000e+00</td>\n",
              "      <td>3406.0</td>\n",
              "    </tr>\n",
              "    <tr>\n",
              "      <th>3868</th>\n",
              "      <td>1351</td>\n",
              "      <td>lcl|HF680312.1_prot_CCU73861.1_3412</td>\n",
              "      <td>99.214</td>\n",
              "      <td>1654</td>\n",
              "      <td>13</td>\n",
              "      <td>0</td>\n",
              "      <td>1</td>\n",
              "      <td>1654</td>\n",
              "      <td>1</td>\n",
              "      <td>1654</td>\n",
              "      <td>0.000000e+00</td>\n",
              "      <td>3372.0</td>\n",
              "    </tr>\n",
              "    <tr>\n",
              "      <th>2393</th>\n",
              "      <td>846</td>\n",
              "      <td>lcl|HF680312.1_prot_CCU70690.1_241</td>\n",
              "      <td>99.392</td>\n",
              "      <td>1645</td>\n",
              "      <td>10</td>\n",
              "      <td>0</td>\n",
              "      <td>1</td>\n",
              "      <td>1645</td>\n",
              "      <td>1</td>\n",
              "      <td>1645</td>\n",
              "      <td>0.000000e+00</td>\n",
              "      <td>3338.0</td>\n",
              "    </tr>\n",
              "    <tr>\n",
              "      <th>...</th>\n",
              "      <td>...</td>\n",
              "      <td>...</td>\n",
              "      <td>...</td>\n",
              "      <td>...</td>\n",
              "      <td>...</td>\n",
              "      <td>...</td>\n",
              "      <td>...</td>\n",
              "      <td>...</td>\n",
              "      <td>...</td>\n",
              "      <td>...</td>\n",
              "      <td>...</td>\n",
              "      <td>...</td>\n",
              "    </tr>\n",
              "    <tr>\n",
              "      <th>7280</th>\n",
              "      <td>2572</td>\n",
              "      <td>lcl|HF680312.1_prot_CCU73367.1_2918</td>\n",
              "      <td>41.096</td>\n",
              "      <td>73</td>\n",
              "      <td>43</td>\n",
              "      <td>0</td>\n",
              "      <td>5</td>\n",
              "      <td>77</td>\n",
              "      <td>8</td>\n",
              "      <td>80</td>\n",
              "      <td>7.960000e-13</td>\n",
              "      <td>54.7</td>\n",
              "    </tr>\n",
              "    <tr>\n",
              "      <th>8445</th>\n",
              "      <td>3018</td>\n",
              "      <td>lcl|HF680312.1_prot_CCU73711.1_3262</td>\n",
              "      <td>29.592</td>\n",
              "      <td>98</td>\n",
              "      <td>63</td>\n",
              "      <td>2</td>\n",
              "      <td>16</td>\n",
              "      <td>112</td>\n",
              "      <td>4</td>\n",
              "      <td>96</td>\n",
              "      <td>1.250000e-11</td>\n",
              "      <td>53.5</td>\n",
              "    </tr>\n",
              "    <tr>\n",
              "      <th>1679</th>\n",
              "      <td>617</td>\n",
              "      <td>lcl|HF680312.1_prot_CCU72581.1_2132</td>\n",
              "      <td>29.592</td>\n",
              "      <td>98</td>\n",
              "      <td>63</td>\n",
              "      <td>2</td>\n",
              "      <td>16</td>\n",
              "      <td>112</td>\n",
              "      <td>4</td>\n",
              "      <td>96</td>\n",
              "      <td>1.250000e-11</td>\n",
              "      <td>53.5</td>\n",
              "    </tr>\n",
              "    <tr>\n",
              "      <th>10554</th>\n",
              "      <td>3617</td>\n",
              "      <td>lcl|HF680312.1_prot_CCU72581.1_2132</td>\n",
              "      <td>29.592</td>\n",
              "      <td>98</td>\n",
              "      <td>63</td>\n",
              "      <td>2</td>\n",
              "      <td>16</td>\n",
              "      <td>112</td>\n",
              "      <td>4</td>\n",
              "      <td>96</td>\n",
              "      <td>1.250000e-11</td>\n",
              "      <td>53.5</td>\n",
              "    </tr>\n",
              "    <tr>\n",
              "      <th>481</th>\n",
              "      <td>180</td>\n",
              "      <td>lcl|HF680312.1_prot_CCU73039.1_2590</td>\n",
              "      <td>100.000</td>\n",
              "      <td>28</td>\n",
              "      <td>0</td>\n",
              "      <td>0</td>\n",
              "      <td>1</td>\n",
              "      <td>28</td>\n",
              "      <td>1</td>\n",
              "      <td>28</td>\n",
              "      <td>5.730000e-12</td>\n",
              "      <td>50.1</td>\n",
              "    </tr>\n",
              "  </tbody>\n",
              "</table>\n",
              "<p>3339 rows × 12 columns</p>\n",
              "</div>\n",
              "      <button class=\"colab-df-convert\" onclick=\"convertToInteractive('df-e069d34f-05a2-4a17-9b61-e5756628bf36')\"\n",
              "              title=\"Convert this dataframe to an interactive table.\"\n",
              "              style=\"display:none;\">\n",
              "        \n",
              "  <svg xmlns=\"http://www.w3.org/2000/svg\" height=\"24px\"viewBox=\"0 0 24 24\"\n",
              "       width=\"24px\">\n",
              "    <path d=\"M0 0h24v24H0V0z\" fill=\"none\"/>\n",
              "    <path d=\"M18.56 5.44l.94 2.06.94-2.06 2.06-.94-2.06-.94-.94-2.06-.94 2.06-2.06.94zm-11 1L8.5 8.5l.94-2.06 2.06-.94-2.06-.94L8.5 2.5l-.94 2.06-2.06.94zm10 10l.94 2.06.94-2.06 2.06-.94-2.06-.94-.94-2.06-.94 2.06-2.06.94z\"/><path d=\"M17.41 7.96l-1.37-1.37c-.4-.4-.92-.59-1.43-.59-.52 0-1.04.2-1.43.59L10.3 9.45l-7.72 7.72c-.78.78-.78 2.05 0 2.83L4 21.41c.39.39.9.59 1.41.59.51 0 1.02-.2 1.41-.59l7.78-7.78 2.81-2.81c.8-.78.8-2.07 0-2.86zM5.41 20L4 18.59l7.72-7.72 1.47 1.35L5.41 20z\"/>\n",
              "  </svg>\n",
              "      </button>\n",
              "      \n",
              "  <style>\n",
              "    .colab-df-container {\n",
              "      display:flex;\n",
              "      flex-wrap:wrap;\n",
              "      gap: 12px;\n",
              "    }\n",
              "\n",
              "    .colab-df-convert {\n",
              "      background-color: #E8F0FE;\n",
              "      border: none;\n",
              "      border-radius: 50%;\n",
              "      cursor: pointer;\n",
              "      display: none;\n",
              "      fill: #1967D2;\n",
              "      height: 32px;\n",
              "      padding: 0 0 0 0;\n",
              "      width: 32px;\n",
              "    }\n",
              "\n",
              "    .colab-df-convert:hover {\n",
              "      background-color: #E2EBFA;\n",
              "      box-shadow: 0px 1px 2px rgba(60, 64, 67, 0.3), 0px 1px 3px 1px rgba(60, 64, 67, 0.15);\n",
              "      fill: #174EA6;\n",
              "    }\n",
              "\n",
              "    [theme=dark] .colab-df-convert {\n",
              "      background-color: #3B4455;\n",
              "      fill: #D2E3FC;\n",
              "    }\n",
              "\n",
              "    [theme=dark] .colab-df-convert:hover {\n",
              "      background-color: #434B5C;\n",
              "      box-shadow: 0px 1px 3px 1px rgba(0, 0, 0, 0.15);\n",
              "      filter: drop-shadow(0px 1px 2px rgba(0, 0, 0, 0.3));\n",
              "      fill: #FFFFFF;\n",
              "    }\n",
              "  </style>\n",
              "\n",
              "      <script>\n",
              "        const buttonEl =\n",
              "          document.querySelector('#df-e069d34f-05a2-4a17-9b61-e5756628bf36 button.colab-df-convert');\n",
              "        buttonEl.style.display =\n",
              "          google.colab.kernel.accessAllowed ? 'block' : 'none';\n",
              "\n",
              "        async function convertToInteractive(key) {\n",
              "          const element = document.querySelector('#df-e069d34f-05a2-4a17-9b61-e5756628bf36');\n",
              "          const dataTable =\n",
              "            await google.colab.kernel.invokeFunction('convertToInteractive',\n",
              "                                                     [key], {});\n",
              "          if (!dataTable) return;\n",
              "\n",
              "          const docLinkHtml = 'Like what you see? Visit the ' +\n",
              "            '<a target=\"_blank\" href=https://colab.research.google.com/notebooks/data_table.ipynb>data table notebook</a>'\n",
              "            + ' to learn more about interactive tables.';\n",
              "          element.innerHTML = '';\n",
              "          dataTable['output_type'] = 'display_data';\n",
              "          await google.colab.output.renderOutput(dataTable, element);\n",
              "          const docLink = document.createElement('div');\n",
              "          docLink.innerHTML = docLinkHtml;\n",
              "          element.appendChild(docLink);\n",
              "        }\n",
              "      </script>\n",
              "    </div>\n",
              "  </div>\n",
              "  "
            ]
          },
          "metadata": {},
          "execution_count": 67
        }
      ]
    },
    {
      "cell_type": "code",
      "source": [
        "for i, hit in hits.iterrows():\n",
        "  gene = genes[str(hit['qseqid'])]\n",
        "  match = hit['sseqid'].split('_')[2]\n",
        "  gene.qualifiers['product'] = [mil1genes[match]]"
      ],
      "metadata": {
        "id": "XD4VYlRZHyYT"
      },
      "execution_count": 68,
      "outputs": []
    },
    {
      "cell_type": "code",
      "source": [
        "SeqIO.write(scaffolds.values(), \"GENOME.gbk\", \"genbank\")"
      ],
      "metadata": {
        "colab": {
          "base_uri": "https://localhost:8080/"
        },
        "id": "2udF0r1UH3B5",
        "outputId": "a7ecffda-ed03-44d2-cebc-fd36641f91d4"
      },
      "execution_count": 69,
      "outputs": [
        {
          "output_type": "execute_result",
          "data": {
            "text/plain": [
              "74"
            ]
          },
          "metadata": {},
          "execution_count": 69
        }
      ]
    },
    {
      "cell_type": "markdown",
      "source": [
        "**Добавляем функции белков (из БД SwissProt)**"
      ],
      "metadata": {
        "id": "rNYJZP_ZKs3O"
      }
    },
    {
      "cell_type": "markdown",
      "source": [
        "Читаем информацию из файла scaffolds.hits_from_SwissProt.txt"
      ],
      "metadata": {
        "id": "TF2SKXg8KwcD"
      }
    },
    {
      "cell_type": "code",
      "source": [
        "!wget -nc https://ftp.uniprot.org/pub/databases/uniprot/current_release/knowledgebase/complete/uniprot_sprot.dat.gz\n",
        "!gzip -d uniprot_sprot.dat.gz"
      ],
      "metadata": {
        "colab": {
          "base_uri": "https://localhost:8080/"
        },
        "id": "-0k8xAUqH7oX",
        "outputId": "163a39c6-bd1d-49aa-d5ea-89b23a660789"
      },
      "execution_count": 70,
      "outputs": [
        {
          "output_type": "stream",
          "name": "stdout",
          "text": [
            "--2022-10-21 15:30:59--  https://ftp.uniprot.org/pub/databases/uniprot/current_release/knowledgebase/complete/uniprot_sprot.dat.gz\n",
            "Resolving ftp.uniprot.org (ftp.uniprot.org)... 128.175.240.195\n",
            "Connecting to ftp.uniprot.org (ftp.uniprot.org)|128.175.240.195|:443... connected.\n",
            "HTTP request sent, awaiting response... 200 OK\n",
            "Length: 642093634 (612M) [application/x-gzip]\n",
            "Saving to: ‘uniprot_sprot.dat.gz’\n",
            "\n",
            "uniprot_sprot.dat.g 100%[===================>] 612.35M   146MB/s    in 4.1s    \n",
            "\n",
            "2022-10-21 15:31:04 (150 MB/s) - ‘uniprot_sprot.dat.gz’ saved [642093634/642093634]\n",
            "\n"
          ]
        }
      ]
    },
    {
      "cell_type": "code",
      "source": [
        "!grep '^ID\\|^DE   RecName: Full=' uniprot_sprot.dat > SwissProt_names.txt"
      ],
      "metadata": {
        "id": "uSvUo3ECKy6r"
      },
      "execution_count": 71,
      "outputs": []
    },
    {
      "cell_type": "code",
      "source": [
        "!grep '^ID\\|^DE   RecName: Full=' uniprot_sprot.dat > SwissProt_names.txt\n",
        "previd = None\n",
        "swissgenes = dict()\n",
        "for line in open('SwissProt_names.txt'):\n",
        "  if line.startswith('ID'):\n",
        "    previd = line.split()[1]\n",
        "  if line.startswith('DE'):\n",
        "    swissgenes[previd] = line.split('=')[1][:-2]\n",
        "swisshits_raw = pd.read_csv('scaffolds.hits_from_SwissProt.txt', sep='\\t', header=None, names=names)\n",
        "swisshits = swisshits_raw.sort_values('bitscore', ascending=False).drop_duplicates('qseqid')\n",
        "\n",
        "for i, hit in swisshits.iterrows():\n",
        "  gene = genes[str(hit['qseqid'])]\n",
        "  match = hit['sseqid'].split('|')[-1]\n",
        "  gene.qualifiers['product'] = [swissgenes[match]]"
      ],
      "metadata": {
        "id": "MnZRqb1QK2EQ"
      },
      "execution_count": 72,
      "outputs": []
    },
    {
      "cell_type": "code",
      "source": [
        "SeqIO.write(scaffolds.values(), \"GENOME.gbk\", \"genbank\")"
      ],
      "metadata": {
        "colab": {
          "base_uri": "https://localhost:8080/"
        },
        "id": "pLcaO7tYK6AF",
        "outputId": "b9cbb044-32fa-40df-ed3f-fc7ab46ec87e"
      },
      "execution_count": 73,
      "outputs": [
        {
          "output_type": "execute_result",
          "data": {
            "text/plain": [
              "74"
            ]
          },
          "metadata": {},
          "execution_count": 73
        }
      ]
    }
  ]
}